{
  "nbformat": 4,
  "nbformat_minor": 0,
  "metadata": {
    "colab": {
      "provenance": []
    },
    "kernelspec": {
      "name": "python3",
      "display_name": "Python 3"
    },
    "language_info": {
      "name": "python"
    }
  },
  "cells": [
    {
      "cell_type": "code",
      "execution_count": null,
      "metadata": {
        "id": "prWu1iz0v-HS"
      },
      "outputs": [],
      "source": [
        "#Funcions (data types and structure question)"
      ]
    },
    {
      "cell_type": "code",
      "source": [
        "# 1] what are data structure and why are they important?\n",
        "# ans- datastructure are specialised formats for organising, storing and accesing collection of data. they provide efficient ways to\n",
        "#manage information based on its characteristic and intented use.\n",
        "#well choosen data structure can simplify:\n",
        "#data manipulation (adding, removingand modifying elements)\n",
        "#optimise searching and sorting operations converse memory usage.\n",
        "\n",
        "# 2] explain the difference between mutable and immutable data types with examples\n",
        "# ans- mutable data types means you can change its value after its created, while immutable data types cannot be modified once defined\n",
        "#for example list are mutable and tuples are immutable\n",
        "\n",
        "# 3] what are the main differences between lists and tuples in python\n",
        "#ans- the main difference between tuples and lists is that while tuples are immutable object, lists are mutable.this means\n",
        "#tuples cannot be changed while list can be modified.\n",
        "\n",
        "# 4] describe how dictionaries store data?\n",
        "#ans- dictionaries are used to store data values in key:value pair.\n",
        "\n",
        "#5] why might you use set instead of list in python?\n",
        "#ans- sets highly useful to efficiently remove duplicate values from a list or tuple and to perform common math operations like union and\n",
        "#intersection.\n",
        "\n",
        "# 6] what is string in python and how is it different from list?\n",
        "#ans- characters arranged in an unchangable order\n",
        "#a string is a sequence of character between single or double quote while list is a sequence of items where each item could be anything.\n",
        "\n",
        "# 7] how do a tuples ensures data integrity in python?\n",
        "#ans- tuples are immutable to ensures that their content remain constant throughout their lifecycle, guaranteeing data intigrity and\n",
        "#reliability.\n",
        "\n",
        "# 8] what is a hash table and how does it relate to dictionaries in python?\n",
        "#ans- in python hash table is data structure thats used to implement dictionaries.\n",
        "#a dictionary is a collection of key value pair which implemented using a hash table.\n",
        "#the order of elements of of a dictionary is not fixed.\n",
        "\n",
        "# 9] can list contain different data types in python?\n",
        "#ans- yes list can contain different data types in python.\n",
        "\n",
        "# 10] explain why strings are immutable in python?\n",
        "#ans- strings are immutable which means they cannot be changed after they are created.\n",
        "\n",
        "# 11] what advantages do dictionaries offer over lists for certain tasks?\n",
        "#ans- dictionaries offers a significant advantage over lists when you need to quickly look up data based on a specific identifier\n",
        "#making them ideal for tasks where you need to efficiently retrieve information using a unique reference point.unlike lists which rely on\n",
        "#sequential indexing for access.\n",
        "\n",
        "# 12] describe a scenario where using a tuple would be preferable over list?\n",
        "#ans- tuples are also more efficient than the lists. when it comes to time efficiency tuples have a slight advantage over lists especially\n",
        "#when we conside lookup value\n",
        "#if you have data that shouldn't change you should tuple data type over list.\n",
        "\n",
        "# 13] how do sets handle duplicate value in python?\n",
        "# ans- using delete key word, for loop, set, dictionary, counter and Freqdist."
      ],
      "metadata": {
        "id": "-w6LP6CpwB0h"
      },
      "execution_count": 3,
      "outputs": []
    },
    {
      "cell_type": "code",
      "source": [
        "#14] how does the \"in\" key word work differently for lists and dictionaries?\n",
        "# ans- the \"in\" works on dictionary;it tells you whether something apears as a key in the dictionary it returns two values true or false.the\n",
        "#\"in\" operator uses different algorithms for lists for lists it uses a search algorithm.\n",
        "\n",
        "# 15] can you modify the elements of a tuple? explain why or why not?\n",
        "#ans- no, we cannot modify the elements of tuples in python because tuples are \"immutable\",meaning once created their element cannot be\n",
        "#changed,added or removed.\n",
        "\n",
        "# 16] what is nested dictionary and give an example of its use cases?\n",
        "# ans- a nested dictionary is a data structure where a dictionary contain other dictionaries as values, essentially creating a heirarchical\n",
        "#organization of key-value pairs within a dictionary.\n",
        "\n",
        "# 17] describe the time complexity of accessing elements in a dictionary?\n",
        "#ans- the O(1) time compexity means that the time it takes to access an elements in a dictionary is constant, regardless of the size of the\n",
        "#dictionary.\n",
        "\n",
        "# 18] in what situations are lists prefered over dictionaries?\n",
        "#ans- if you are managing a list of tasks where the order of execution matters, lists are an ideal choice convercely dictionary excels in\n",
        "#scenarios where data is associated with unique identifiers.\n",
        "\n",
        "# 19] why are dictionaries considered unordered and how does that affect data retrieval?\n",
        "#ans- dictionaries are considered as unoredered because they do not maintain a specific order of their key-value pairs when storing data.\n",
        "#meaning you cannot access elements based on their position in the collection like you would with a list ;instead you access them using unique\n",
        "#keys, which allows for fast retrieval based on the key itself.\n",
        "\n",
        "# 20] explain the difference between a list and a dictionary in terms of data retrieval?\n",
        "#ans - a list can store any data type in contrast keys in the dictionary can be of any immutable data type , values can be of any data type."
      ],
      "metadata": {
        "id": "ct4ckRKGLiG8"
      },
      "execution_count": null,
      "outputs": []
    },
    {
      "cell_type": "markdown",
      "source": [],
      "metadata": {
        "id": "UZqq7cCaUC_l"
      }
    }
  ]
}